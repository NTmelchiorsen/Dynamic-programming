{
 "cells": [
  {
   "cell_type": "code",
   "execution_count": 9,
   "metadata": {},
   "outputs": [
    {
     "name": "stdout",
     "output_type": "stream",
     "text": [
      "The autoreload extension is already loaded. To reload it, use:\n",
      "  %reload_ext autoreload\n"
     ]
    }
   ],
   "source": [
    "# magics: ensures that any changes to the modules loaded below will be re-loaded automatically\n",
    "%load_ext autoreload\n",
    "%autoreload 2\n",
    "\n",
    "# load general packages\n",
    "import numpy as np\n",
    "import matplotlib.pyplot as plt\n",
    "plt.style.use('seaborn-v0_8')\n",
    "\n",
    "# load modules related to this exercise\n",
    "import simple_zurcher as model"
   ]
  },
  {
   "cell_type": "code",
   "execution_count": 10,
   "metadata": {},
   "outputs": [],
   "source": [
    "# Create a function that plots the value and policy functions\n",
    "def plot_solution(par, sol):\n",
    "    # make a figure with two subplots\n",
    "    fig, ax = plt.subplots(1, 2, figsize=(12, 4))\n",
    "    ax[0].plot(par.grid, sol.V)\n",
    "    ax[0].set_title('Value function')\n",
    "    ax[0].set_xlabel('milage')\n",
    "    \n",
    "    ax[1].plot(par.grid, sol.pk)\n",
    "    ax[1].set_title('Probability of keeping')\n",
    "    ax[1].set_xlabel('milage')\n",
    "    ax[1].yaxis.set_major_formatter('{x:.0%}')"
   ]
  },
  {
   "cell_type": "markdown",
   "metadata": {},
   "source": [
    "## Exercise 1 - Deterministic state transition"
   ]
  },
  {
   "cell_type": "markdown",
   "metadata": {},
   "source": [
    "Consider the engine replacement model given by:\n",
    "\n",
    "$$\n",
    "V(x) = \\max_{d\\in \\{0,1\\}} \\big\\{ u(x,d) + \\beta V(x') \\big\\} \\\\\n",
    "$$\n",
    "\n",
    "Where the state transition is deterministically given by:\n",
    "$$\n",
    "x'=\\left \\{\n",
    "\\begin{array}{ll}\n",
    "    x + 1 & \\text{if }d=\\text{keep}=0 \\\\\n",
    "    1 & \\text{if }d=\\text{replace}=1\n",
    "\\end{array} \\right.\n",
    "$$\n",
    "\n",
    "utility is given by:\n",
    "\n",
    "$$\n",
    "u(x,d)=\\left \\{\n",
    "\\begin{array}{ll}\n",
    "    -c(x) & \\text{if }d=\\text{keep}=0 \\\\\n",
    "    -RC-c(0) & \\text{if }d=\\text{replace}=1\n",
    "\\end{array} \\right.\n",
    "$$\n",
    "\n",
    "Here\n",
    "\n",
    "- $ x $ = milage of the engine\n",
    "- $ RC $ = replacement cost  \n",
    "- $ c(x) = c \\cdot x $ = cost of maintenance\n",
    "\n",
    "\n"
   ]
  },
  {
   "cell_type": "markdown",
   "metadata": {},
   "source": [
    "##### a) Orient yourself with the objects in the function *setup*, *solve_VFI*, *bellman*, *util*, and *cost* in *model_simple.py*."
   ]
  },
  {
   "cell_type": "markdown",
   "metadata": {},
   "source": [
    "##### b) Fill in the missing stuff in the *bellman* and *EV_deterministic* functions. Solve the model. Plot the solution.\n",
    "In the *bellman* function, you don't have to fill in code for *taste_shocks* other than for *taste_shocks == 'None'*."
   ]
  },
  {
   "cell_type": "code",
   "execution_count": 11,
   "metadata": {},
   "outputs": [
    {
     "ename": "NameError",
     "evalue": "name 'maxV' is not defined",
     "output_type": "error",
     "traceback": [
      "\u001b[1;31m---------------------------------------------------------------------------\u001b[0m",
      "\u001b[1;31mNameError\u001b[0m                                 Traceback (most recent call last)",
      "Cell \u001b[1;32mIn[11], line 2\u001b[0m\n\u001b[0;32m      1\u001b[0m par \u001b[38;5;241m=\u001b[39m model\u001b[38;5;241m.\u001b[39msetup()\n\u001b[1;32m----> 2\u001b[0m sol \u001b[38;5;241m=\u001b[39m \u001b[43mmodel\u001b[49m\u001b[38;5;241;43m.\u001b[39;49m\u001b[43msolve_VFI\u001b[49m\u001b[43m(\u001b[49m\u001b[43mpar\u001b[49m\u001b[43m)\u001b[49m\n",
      "File \u001b[1;32mc:\\Users\\PC\\OneDrive\\Skrivebord\\dynamic\\Dynamic-programming\\2_dynamic_discrete_choice\\exercises\\ex_ante\\00_intro\\simple_zurcher.py:80\u001b[0m, in \u001b[0;36msolve_VFI\u001b[1;34m(par, vectorized, **kwargs)\u001b[0m\n\u001b[0;32m     77\u001b[0m \u001b[38;5;28;01mwhile\u001b[39;00m (par\u001b[38;5;241m.\u001b[39mmax_iter\u001b[38;5;241m>\u001b[39m\u001b[38;5;241m=\u001b[39m sol\u001b[38;5;241m.\u001b[39mit \u001b[38;5;129;01mand\u001b[39;00m par\u001b[38;5;241m.\u001b[39mtol\u001b[38;5;241m<\u001b[39msol\u001b[38;5;241m.\u001b[39mdelta):\n\u001b[0;32m     79\u001b[0m     \u001b[38;5;28;01mif\u001b[39;00m vectorized\u001b[38;5;241m==\u001b[39m\u001b[38;5;28;01mFalse\u001b[39;00m:\n\u001b[1;32m---> 80\u001b[0m         V_now, pk \u001b[38;5;241m=\u001b[39m \u001b[43mbellman\u001b[49m\u001b[43m(\u001b[49m\u001b[43msol\u001b[49m\u001b[38;5;241;43m.\u001b[39;49m\u001b[43mV\u001b[49m\u001b[43m,\u001b[49m\u001b[43m \u001b[49m\u001b[43mpar\u001b[49m\u001b[43m,\u001b[49m\u001b[43m \u001b[49m\u001b[38;5;241;43m*\u001b[39;49m\u001b[38;5;241;43m*\u001b[39;49m\u001b[43mkwargs\u001b[49m\u001b[43m)\u001b[49m\n\u001b[0;32m     81\u001b[0m     \u001b[38;5;28;01melse\u001b[39;00m:\n\u001b[0;32m     82\u001b[0m         V_now, pk \u001b[38;5;241m=\u001b[39m bellman_vector(sol\u001b[38;5;241m.\u001b[39mV, par, \u001b[38;5;241m*\u001b[39m\u001b[38;5;241m*\u001b[39mkwargs)\n",
      "File \u001b[1;32mc:\\Users\\PC\\OneDrive\\Skrivebord\\dynamic\\Dynamic-programming\\2_dynamic_discrete_choice\\exercises\\ex_ante\\00_intro\\simple_zurcher.py:135\u001b[0m, in \u001b[0;36mbellman\u001b[1;34m(V_next, par, taste_shocks, stochastic_transition)\u001b[0m\n\u001b[0;32m    131\u001b[0m \u001b[38;5;66;03m### Update value and choice\u001b[39;00m\n\u001b[0;32m    132\u001b[0m \n\u001b[0;32m    133\u001b[0m \u001b[38;5;66;03m# Exercise 1\u001b[39;00m\n\u001b[0;32m    134\u001b[0m \u001b[38;5;28;01mif\u001b[39;00m taste_shocks \u001b[38;5;241m==\u001b[39m \u001b[38;5;124m'\u001b[39m\u001b[38;5;124mNone\u001b[39m\u001b[38;5;124m'\u001b[39m:\n\u001b[1;32m--> 135\u001b[0m   V_now[x] \u001b[38;5;241m=\u001b[39m \u001b[43mmaxV\u001b[49m\n\u001b[0;32m    136\u001b[0m   pk[x] \u001b[38;5;241m=\u001b[39m (value_keep \u001b[38;5;241m>\u001b[39m value_replace)\n\u001b[0;32m    138\u001b[0m \u001b[38;5;66;03m# Exercise 3\u001b[39;00m\n",
      "\u001b[1;31mNameError\u001b[0m: name 'maxV' is not defined"
     ]
    }
   ],
   "source": [
    "par = model.setup()\n",
    "sol = model.solve_VFI(par)"
   ]
  },
  {
   "cell_type": "code",
   "execution_count": 6,
   "metadata": {},
   "outputs": [
    {
     "data": {
      "image/png": "[encoded data removed]",
      "text/plain": [
       "<Figure size 1200x400 with 2 Axes>"
      ]
     },
     "metadata": {},
     "output_type": "display_data"
    }
   ],
   "source": [
    "plot_solution(par, sol)"
   ]
  },
  {
   "cell_type": "markdown",
   "metadata": {},
   "source": [
    "##### c) When is it optimal to replace the engine?"
   ]
  },
  {
   "cell_type": "markdown",
   "metadata": {},
   "source": [
    "## Exercise 2 - Stochastic state transition"
   ]
  },
  {
   "cell_type": "markdown",
   "metadata": {},
   "source": [
    "Now we change the assumption of a deterministic state transition to a stochastic one. The state transition is now given by:\n",
    "$$\n",
    "x'=\\left \\{\n",
    "\\begin{array}{ll}\n",
    "    x + m & \\text{if }d=\\text{keep}=0 \\\\\n",
    "    m & \\text{if }d=\\text{replace}=1\n",
    "\\end{array} \\right.\n",
    "$$\n",
    "\n",
    "with $ m $ being a random variable that characterizes how many points we move in the grid (e.g. move 2 grid points from point 17 to 19). \n",
    "\n",
    "We will assume m is discrete and takes on the values $ \\{0,1,2\\} $ with equal probability given by *$\\pi( )$*.\n",
    "\n",
    "The value function is now given by:\n",
    "$$\n",
    "V(x,\\varepsilon) = \\max_{d\\in \\{0,1\\}} \\big\\{ u(x,d) + \\beta\n",
    "\\underbrace{\\int_{X} V(x') \\pi(x'|x,d) dx'}_{EV(x,d)} \\big\\}\n",
    "$$\n",
    "\n"
   ]
  },
  {
   "cell_type": "markdown",
   "metadata": {},
   "source": [
    "##### a) Fill in the missing stuff in the *EV_stochastic* function. Solve the model. Plot the solution."
   ]
  },
  {
   "cell_type": "code",
   "execution_count": null,
   "metadata": {},
   "outputs": [],
   "source": [
    "sol = model.solve_VFI(par, stochastic_transition = True)"
   ]
  },
  {
   "cell_type": "code",
   "execution_count": null,
   "metadata": {},
   "outputs": [],
   "source": [
    "plot_solution(par, sol)"
   ]
  },
  {
   "cell_type": "markdown",
   "metadata": {},
   "source": [
    "##### b) When is it now optimal to replace the engine? Is it different from before? Why, why not?\n",
    "*Hint*: Are agents risk-averse?"
   ]
  },
  {
   "cell_type": "markdown",
   "metadata": {},
   "source": [
    "## Exercise 3 - Taste shocks (Monte Carlo Extreme value)"
   ]
  },
  {
   "cell_type": "markdown",
   "metadata": {},
   "source": [
    "Now we change the assumption of observing all relevant characteristics. We assume that there are some states unobserved to the econometrician. In particular, we assume that there is a taste shock $ \\varepsilon $ for each choice that is unobserved to the econometrician and additively separable in the utility. \n",
    "\n",
    "We will assume that $ \\varepsilon $ is distributed according to the extreme value distribution type 1 given by the pdf *q( )*, is conditionally independant from x, and has bound $\\Omega$. We can write the value function as\n",
    "\n",
    "$$\n",
    "V(x,\\varepsilon) = \\max_{d\\in \\{0,1\\}} \\big\\{ u(x,d) + \\varepsilon_d + \\beta\n",
    "\\underbrace{\\int_{X} \\int_{\\Omega} V(x',\\varepsilon') \\pi(x'|x,d) q(\\varepsilon'|x') dx' d\\varepsilon' }_{EV(x,d)} \\big\\}\n",
    "$$\n",
    "\n",
    "Because of the taste shock today, choices are now stochastic. And also, we now have to handle the expectation of these taste shocks tommorow, which we can do by integrating them out.\n"
   ]
  },
  {
   "cell_type": "markdown",
   "metadata": {},
   "source": [
    "##### a) What is the intuition of the taste shocks? "
   ]
  },
  {
   "cell_type": "markdown",
   "metadata": {},
   "source": [
    "##### b) Solve the model with *Monte Carlo Extreme Value* shocks. Plot the solution. \n",
    "\n",
    "The code has been provided."
   ]
  },
  {
   "cell_type": "code",
   "execution_count": null,
   "metadata": {},
   "outputs": [],
   "source": [
    "sol = model.solve_VFI(par, stochastic_transition = True, taste_shocks = 'Monte Carlo Extreme Value')"
   ]
  },
  {
   "cell_type": "code",
   "execution_count": null,
   "metadata": {},
   "outputs": [],
   "source": [
    "plot_solution(par, sol)"
   ]
  },
  {
   "cell_type": "markdown",
   "metadata": {},
   "source": [
    "##### c) Why did the policy function change shape?"
   ]
  },
  {
   "cell_type": "markdown",
   "metadata": {},
   "source": [
    "#### d) If we were to add more choices, what would the computational (speed) cost be? Why?"
   ]
  },
  {
   "cell_type": "markdown",
   "metadata": {},
   "source": [
    "## Exercise 4: Taste Shocks (Analytic Extreme Value)"
   ]
  },
  {
   "cell_type": "markdown",
   "metadata": {},
   "source": [
    "In the previous exercise we used Monte Carlo simulation to integrate out the taste shocks. In this exercise, we will use some powerful properties of the extreme value distribution to analytically solve for the expected value.\n",
    "\n",
    "*Hint*: Find the closed form solution of the expected value and choice probability in the lecture slides."
   ]
  },
  {
   "cell_type": "markdown",
   "metadata": {},
   "source": [
    "##### a) Fill in the missing stuff in the *bellman* function under *taste_shocks == 'Extreme Value'*. Solve the model and plot the solution."
   ]
  },
  {
   "cell_type": "code",
   "execution_count": null,
   "metadata": {},
   "outputs": [],
   "source": [
    "sol = model.solve_VFI(par, stochastic_transition = True, taste_shocks = 'Extreme Value')"
   ]
  },
  {
   "cell_type": "code",
   "execution_count": null,
   "metadata": {},
   "outputs": [],
   "source": [
    "plot_solution(par, sol)"
   ]
  },
  {
   "cell_type": "markdown",
   "metadata": {},
   "source": [
    "##### b) Are the solutions the same as with Monte Carlo? Why, why not?"
   ]
  },
  {
   "cell_type": "markdown",
   "metadata": {},
   "source": [
    "## Exercise 5 - Taste shocks (Normally distributed)"
   ]
  },
  {
   "cell_type": "markdown",
   "metadata": {},
   "source": [
    "Now lets change the distributional assumption of the taste shocks. Let us now assume that the taste shocks are standard normally distributed."
   ]
  },
  {
   "cell_type": "markdown",
   "metadata": {},
   "source": [
    "##### a) Fill in the missing stuff under *taste_shocks == 'Normal'*. Solve the model. Plot the solution.\n",
    "*Hint*: Is there an analytical solution?"
   ]
  },
  {
   "cell_type": "code",
   "execution_count": null,
   "metadata": {},
   "outputs": [],
   "source": [
    "sol = model.solve_VFI(par, stochastic_transition = True, taste_shocks = 'Normal')"
   ]
  },
  {
   "cell_type": "code",
   "execution_count": null,
   "metadata": {},
   "outputs": [],
   "source": [
    "plot_solution(par, sol)"
   ]
  },
  {
   "cell_type": "markdown",
   "metadata": {},
   "source": [
    "##### b) What is the advantage of assuming Extreme Value Type 1 taste shocks?"
   ]
  },
  {
   "cell_type": "markdown",
   "metadata": {},
   "source": [
    "## (Optional) Exercise 6 - Vectorized "
   ]
  },
  {
   "cell_type": "markdown",
   "metadata": {},
   "source": [
    "##### a) Solve the model in a vectorized form by filling out the missing stuff in the *bellman_vectorized* function. Plot the solution.\n",
    "\n",
    "Assume that there are Extreme Value shocks and a stochastic state transition. You have been given the state transition matrices, which you will have to use."
   ]
  },
  {
   "cell_type": "code",
   "execution_count": null,
   "metadata": {},
   "outputs": [],
   "source": [
    "sol = model.solve_VFI(par, vectorized = True)"
   ]
  },
  {
   "cell_type": "code",
   "execution_count": null,
   "metadata": {},
   "outputs": [],
   "source": [
    "plot_solution(par, sol)"
   ]
  },
  {
   "cell_type": "markdown",
   "metadata": {},
   "source": [
    "##### b) Are the results identical to the solution from exercise 4? What is the advantage of solving the model in a vectorized form?"
   ]
  }
 ],
 "metadata": {
  "kernelspec": {
   "display_name": "base",
   "language": "python",
   "name": "python3"
  },
  "language_info": {
   "codemirror_mode": {
    "name": "ipython",
    "version": 3
   },
   "file_extension": ".py",
   "mimetype": "text/x-python",
   "name": "python",
   "nbconvert_exporter": "python",
   "pygments_lexer": "ipython3",
   "version": "3.11.8"
  }
 },
 "nbformat": 4,
 "nbformat_minor": 2
}
