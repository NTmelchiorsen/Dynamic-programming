{
 "cells": [
  {
   "cell_type": "code",
   "execution_count": 17,
   "id": "b983c1b8-672e-4026-97e8-e9dece292c59",
   "metadata": {},
   "outputs": [
    {
     "name": "stdout",
     "output_type": "stream",
     "text": [
      "[0]\n",
      "0\n",
      "[0 1]\n",
      "1\n",
      "[0 1 2]\n",
      "2\n",
      "[0 1 2 3]\n",
      "3\n",
      "[0 1 2 3 4]\n",
      "4\n",
      "[0 1 2 3 4 5]\n",
      "5\n",
      "[0]\n",
      "0\n",
      "[0 1]\n",
      "1\n",
      "[0 1 2]\n",
      "2\n",
      "[0 1 2 3]\n",
      "3\n",
      "[0 1 2 3 4]\n",
      "4\n",
      "[0 1 2 3 4 5]\n",
      "5\n",
      "[2.70435871 3.41830519 3.49700577 3.44205081 2.9        2.23606798]\n",
      "[[0.         0.         0.        ]\n",
      " [1.         1.         1.        ]\n",
      " [1.9        1.9        1.41421356]\n",
      " [2.71       2.31421356 1.73205081]\n",
      " [3.12421356 2.68700577 2.        ]\n",
      " [3.49700577 3.00484301 2.23606798]]\n",
      "[[0. 0. 0.]\n",
      " [1. 1. 1.]\n",
      " [1. 1. 2.]\n",
      " [1. 2. 3.]\n",
      " [2. 2. 4.]\n",
      " [2. 3. 5.]]\n"
     ]
    }
   ],
   "source": [
    "#Exercise 1\n",
    "\n",
    "\n",
    "#Loads the package Numpy\n",
    "import numpy as np\n",
    "\n",
    "# first we simply set up the parameters top match the given criteria in the assignment\n",
    "beta = 0.9\n",
    "W = 5\n",
    "T = 3\n",
    "\n",
    "# 2. Initialize\n",
    "#we create a matrix of nan in the shape with 6 rows and 3 columns\n",
    "Vstar_bi = np.nan+np.zeros([W+1,T])\n",
    "#another matrix of nans is then created with the same dimension\n",
    "Cstar_bi = np.nan + np.zeros([W+1,T])\n",
    "#This line then assigns the last column with an array from 0 to 5(this is 6 lines, which is the same as the w+1)\n",
    "Cstar_bi[:,T-1] = np.arange(W+1) \n",
    "#the next line then creates Vstar, which is the square root of the same matrix\n",
    "Vstar_bi[:,T-1] = np.sqrt(Cstar_bi[:,T-1])\n",
    "\n",
    "# 3. solve\n",
    "# Loop over periods\n",
    "for t in range(T-2, -1, -1):  #a t variable is then created, which goes from period T-2, until period 0, in steps of minus 1. \n",
    "    \n",
    "    #loop over states\n",
    "    #creates a variable w, which starts and zero, and stops at w+1(6)\n",
    "    for w in range(W+1):\n",
    "        #creates a variable c, which stops at w+1\n",
    "        c = np.arange(w+1)\n",
    "        #this is simply a function which gives w-c\n",
    "        w_c = w - c\n",
    "        #this creates the vstar_bi matrix from earlier, but with values\n",
    "        V_next = Vstar_bi[w_c,t+1]\n",
    "        #this creates a new guess, based on the v_next, beta and the square root of c\n",
    "        V_guess = np.sqrt(c)+beta*V_next\n",
    "        #this will return the highest value of the v_guess. it has w rows and t columns\n",
    "        Vstar_bi[w,t] = np.amax(V_guess)\n",
    "        #this will return the location of the highest value\n",
    "        Cstar_bi[w,t] = np.argmax(V_guess)\n",
    "\n",
    "        \n",
    "        \n",
    "print(V_guess)\n",
    "print(Vstar_bi)\n",
    "print(Cstar_bi)\n",
    "#ved ikke helt hvorfor man gør noget af det, men jeg kan nu nogenlunde forstå hvad der bliver gjort"
   ]
  },
  {
   "cell_type": "code",
   "execution_count": 21,
   "id": "0ed3a76a-d9f4-47ed-980a-f8e28beb86e7",
   "metadata": {},
   "outputs": [],
   "source": [
    "def solve_backwards(beta,W,T):\n",
    "    # 2. Initialize\n",
    "    Vstar_bi = np.nan+np.zeros([W+1,T])\n",
    "    Cstar_bi = np.nan + np.zeros([W+1,T])\n",
    "    Cstar_bi[:,T-1] = np.arange(W+1) \n",
    "    Vstar_bi[:,T-1] = np.sqrt(Cstar_bi[:,T-1])\n",
    "    # 3. solve\n",
    "    \n",
    "    # Loop over periods\n",
    "    for t in range(T-2, -1, -1):  #from period T-2, until period 0, backwards  \n",
    "        \n",
    "        #loop over states\n",
    "        for w in range(W+1):\n",
    "            c = np.arange(w+1)\n",
    "            w_c = w - c\n",
    "            V_next = Vstar_bi[w_c,t+1]\n",
    "            V_guess = np.sqrt(c)+beta*V_next\n",
    "            Vstar_bi[w,t] = np.amax(V_guess)\n",
    "            Cstar_bi[w,t] = np.argmax(V_guess)\n",
    "\n",
    "    return Cstar_bi, Vstar_bi"
   ]
  },
  {
   "cell_type": "code",
   "execution_count": 23,
   "id": "8c1487d4-7fbc-4aed-b005-83dde1faa33e",
   "metadata": {},
   "outputs": [
    {
     "name": "stdout",
     "output_type": "stream",
     "text": [
      "[[0. 0. 0.]\n",
      " [1. 1. 1.]\n",
      " [1. 1. 2.]\n",
      " [1. 2. 3.]\n",
      " [2. 2. 4.]\n",
      " [2. 3. 5.]]\n",
      "[[0.         0.         0.        ]\n",
      " [1.         1.         1.        ]\n",
      " [1.9        1.9        1.41421356]\n",
      " [2.71       2.31421356 1.73205081]\n",
      " [3.12421356 2.68700577 2.        ]\n",
      " [3.49700577 3.00484301 2.23606798]]\n"
     ]
    }
   ],
   "source": [
    "beta = 0.9\n",
    "W = 5\n",
    "T = 3\n",
    "C,V = solve_backwards(beta=beta, W=W, T=T)\n",
    "print(Cstar_bi)\n",
    "print(Vstar_bi)\n"
   ]
  },
  {
   "cell_type": "code",
   "execution_count": 24,
   "id": "9a584299-88d0-4539-8eec-d515f75313c8",
   "metadata": {},
   "outputs": [
    {
     "name": "stdout",
     "output_type": "stream",
     "text": [
      "[2. 2. 1.]\n"
     ]
    }
   ],
   "source": [
    "# 4. simulate\n",
    "C_backwards = np.empty(T)\n",
    "W_now = W\n",
    "\n",
    "for t in range(T):\n",
    "    W_now = int(W_now)   # change the type to integegers 0,1,2,3 and so on\n",
    "    C_backwards[t] = C[W_now,t]  # Use the solution you find above \n",
    "    W_now = W_now-C_backwards[t]\n",
    "\n",
    "print(C_backwards)"
   ]
  },
  {
   "cell_type": "code",
   "execution_count": 26,
   "id": "dae969c6-a8c3-482a-9e89-ea507a9c3efd",
   "metadata": {},
   "outputs": [],
   "source": [
    "# 1. Setup \n",
    "beta = 0.9\n",
    "W = 5\n",
    "T = 10\n",
    "\n",
    "# 2. - 3. Solve \n",
    "C10, V10 = solve_backwards(beta,W,T)  # call function"
   ]
  },
  {
   "cell_type": "code",
   "execution_count": 27,
   "id": "df90d163-7b84-4eed-b1ff-49cc2606d9f2",
   "metadata": {},
   "outputs": [
    {
     "name": "stdout",
     "output_type": "stream",
     "text": [
      "Solution for C with T = 10 and W = 5 : C = [1. 1. 1. 1. 1. 0. 0. 0. 0. 0.]\n"
     ]
    }
   ],
   "source": [
    "# define function\n",
    "def simulate(Cstar,T,W):\n",
    "    C_backwards = np.empty(T)\n",
    "    W_now = W\n",
    "    for t in range(T):\n",
    "        W_now = int(W_now)   # change the type to integreger 0,1,2,3 and so on\n",
    "        C_backwards[t] = Cstar[W_now,t]  # I use the solution algorithm \n",
    "        W_now = W_now-C_backwards[t]\n",
    "    return C_backwards\n",
    "\n",
    "# 4. Simulate\n",
    "C_sim = simulate(C10,T,W)  # Call function\n",
    "        \n",
    "print('Solution for C with T =',T,'and W =', W , ': C =',C_sim)"
   ]
  }
 ],
 "metadata": {
  "kernelspec": {
   "display_name": "Python 3 (ipykernel)",
   "language": "python",
   "name": "python3"
  },
  "language_info": {
   "codemirror_mode": {
    "name": "ipython",
    "version": 3
   },
   "file_extension": ".py",
   "mimetype": "text/x-python",
   "name": "python",
   "nbconvert_exporter": "python",
   "pygments_lexer": "ipython3",
   "version": "3.9.16"
  }
 },
 "nbformat": 4,
 "nbformat_minor": 5
}
