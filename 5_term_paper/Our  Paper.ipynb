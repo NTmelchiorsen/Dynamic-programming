{
 "cells": [
  {
   "cell_type": "code",
   "execution_count": 2,
   "metadata": {},
   "outputs": [],
   "source": [
    "import pandas as pd"
   ]
  },
  {
   "cell_type": "code",
   "execution_count": 9,
   "metadata": {},
   "outputs": [],
   "source": [
    "df = pd.read_csv(r'C:\\Users\\PC\\OneDrive\\Skrivebord\\dynamic\\Dynamic-programming\\5_term_paper\\default.dat', sep = ',')"
   ]
  },
  {
   "cell_type": "code",
   "execution_count": 10,
   "metadata": {},
   "outputs": [
    {
     "name": "stdout",
     "output_type": "stream",
     "text": [
      "  -4 -4 -4 -4 -4 -4 -4 -4 12 12 12 12 12 12 12 12 12 12 12 12 12 12 12 12 -4 12 -4 12 -4 12 -4 12 -4 12 -4 12 -4 12 -4 12 -4 12 -4 12 -4 -4 -4 -4 -4 -4 -4 -4 -4 1 -4 0 -4 -4 -4 -4 -4 -4 -4 -4 -4 -4 -4 -4 -4 -4 -4 -4 -4 -4 -4 -4 -4 -4 -4 -4 -4 -4 -4 -4 -4 -4 -4 -4 -4 -4 2 3 -4\n",
      "0  -4 -4 -4 -4 -4 -4 -4 9 9 9 9 9 9 12 12 12 12 1...                                                                                                                                                                                                                                \n",
      "1  -4 -4 -4 -4 -4 10 10 10 10 10 10 10 10 10 10 1...                                                                                                                                                                                                                                \n",
      "2  -4 -4 -4 -4 9 9 9 9 9 13 13 14 14 14 14 14 14 ...                                                                                                                                                                                                                                \n",
      "3  -4 -4 -4 -4 -4 -4 -4 13 14 15 16 17 18 18 18 1...                                                                                                                                                                                                                                \n",
      "4  -4 -4 -4 -4 -4 -4 12 13 14 15 16 16 16 16 16 1...                                                                                                                                                                                                                                \n"
     ]
    }
   ],
   "source": [
    "print(df.head())\n"
   ]
  }
 ],
 "metadata": {
  "kernelspec": {
   "display_name": "Python 3",
   "language": "python",
   "name": "python3"
  },
  "language_info": {
   "codemirror_mode": {
    "name": "ipython",
    "version": 3
   },
   "file_extension": ".py",
   "mimetype": "text/x-python",
   "name": "python",
   "nbconvert_exporter": "python",
   "pygments_lexer": "ipython3",
   "version": "3.11.9"
  }
 },
 "nbformat": 4,
 "nbformat_minor": 2
}
