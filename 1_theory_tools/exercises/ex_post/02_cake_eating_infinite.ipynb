{
 "cells": [
  {
   "cell_type": "code",
   "execution_count": 2,
   "metadata": {},
   "outputs": [
    {
     "name": "stdout",
     "output_type": "stream",
     "text": [
      "The autoreload extension is already loaded. To reload it, use:\n",
      "  %reload_ext autoreload\n"
     ]
    },
    {
     "ename": "OSError",
     "evalue": "'seaborn-whitegrid' is not a valid package style, path of style file, URL of style file, or library style name (library styles are listed in `style.available`)",
     "output_type": "error",
     "traceback": [
      "\u001b[1;31m---------------------------------------------------------------------------\u001b[0m",
      "\u001b[1;31mFileNotFoundError\u001b[0m                         Traceback (most recent call last)",
      "File \u001b[1;32m~\\AppData\\Local\\Packages\\PythonSoftwareFoundation.Python.3.11_qbz5n2kfra8p0\\LocalCache\\local-packages\\Python311\\site-packages\\matplotlib\\style\\core.py:137\u001b[0m, in \u001b[0;36muse\u001b[1;34m(style)\u001b[0m\n\u001b[0;32m    136\u001b[0m \u001b[38;5;28;01mtry\u001b[39;00m:\n\u001b[1;32m--> 137\u001b[0m     style \u001b[38;5;241m=\u001b[39m \u001b[43m_rc_params_in_file\u001b[49m\u001b[43m(\u001b[49m\u001b[43mstyle\u001b[49m\u001b[43m)\u001b[49m\n\u001b[0;32m    138\u001b[0m \u001b[38;5;28;01mexcept\u001b[39;00m \u001b[38;5;167;01mOSError\u001b[39;00m \u001b[38;5;28;01mas\u001b[39;00m err:\n",
      "File \u001b[1;32m~\\AppData\\Local\\Packages\\PythonSoftwareFoundation.Python.3.11_qbz5n2kfra8p0\\LocalCache\\local-packages\\Python311\\site-packages\\matplotlib\\__init__.py:879\u001b[0m, in \u001b[0;36m_rc_params_in_file\u001b[1;34m(fname, transform, fail_on_error)\u001b[0m\n\u001b[0;32m    878\u001b[0m rc_temp \u001b[38;5;241m=\u001b[39m {}\n\u001b[1;32m--> 879\u001b[0m \u001b[43m\u001b[49m\u001b[38;5;28;43;01mwith\u001b[39;49;00m\u001b[43m \u001b[49m\u001b[43m_open_file_or_url\u001b[49m\u001b[43m(\u001b[49m\u001b[43mfname\u001b[49m\u001b[43m)\u001b[49m\u001b[43m \u001b[49m\u001b[38;5;28;43;01mas\u001b[39;49;00m\u001b[43m \u001b[49m\u001b[43mfd\u001b[49m\u001b[43m:\u001b[49m\n\u001b[0;32m    880\u001b[0m \u001b[43m    \u001b[49m\u001b[38;5;28;43;01mtry\u001b[39;49;00m\u001b[43m:\u001b[49m\n",
      "File \u001b[1;32mC:\\Program Files\\WindowsApps\\PythonSoftwareFoundation.Python.3.11_3.11.2288.0_x64__qbz5n2kfra8p0\\Lib\\contextlib.py:137\u001b[0m, in \u001b[0;36m_GeneratorContextManager.__enter__\u001b[1;34m(self)\u001b[0m\n\u001b[0;32m    136\u001b[0m \u001b[38;5;28;01mtry\u001b[39;00m:\n\u001b[1;32m--> 137\u001b[0m     \u001b[38;5;28;01mreturn\u001b[39;00m \u001b[38;5;28mnext\u001b[39m(\u001b[38;5;28mself\u001b[39m\u001b[38;5;241m.\u001b[39mgen)\n\u001b[0;32m    138\u001b[0m \u001b[38;5;28;01mexcept\u001b[39;00m \u001b[38;5;167;01mStopIteration\u001b[39;00m:\n",
      "File \u001b[1;32m~\\AppData\\Local\\Packages\\PythonSoftwareFoundation.Python.3.11_qbz5n2kfra8p0\\LocalCache\\local-packages\\Python311\\site-packages\\matplotlib\\__init__.py:856\u001b[0m, in \u001b[0;36m_open_file_or_url\u001b[1;34m(fname)\u001b[0m\n\u001b[0;32m    855\u001b[0m fname \u001b[38;5;241m=\u001b[39m os\u001b[38;5;241m.\u001b[39mpath\u001b[38;5;241m.\u001b[39mexpanduser(fname)\n\u001b[1;32m--> 856\u001b[0m \u001b[38;5;28;01mwith\u001b[39;00m \u001b[38;5;28mopen\u001b[39m(fname, encoding\u001b[38;5;241m=\u001b[39m\u001b[38;5;124m'\u001b[39m\u001b[38;5;124mutf-8\u001b[39m\u001b[38;5;124m'\u001b[39m) \u001b[38;5;28;01mas\u001b[39;00m f:\n\u001b[0;32m    857\u001b[0m     \u001b[38;5;28;01myield\u001b[39;00m f\n",
      "\u001b[1;31mFileNotFoundError\u001b[0m: [Errno 2] No such file or directory: 'seaborn-whitegrid'",
      "\nThe above exception was the direct cause of the following exception:\n",
      "\u001b[1;31mOSError\u001b[0m                                   Traceback (most recent call last)",
      "Cell \u001b[1;32mIn[2], line 8\u001b[0m\n\u001b[0;32m      6\u001b[0m \u001b[38;5;28;01mimport\u001b[39;00m \u001b[38;5;21;01mnumpy\u001b[39;00m \u001b[38;5;28;01mas\u001b[39;00m \u001b[38;5;21;01mnp\u001b[39;00m\n\u001b[0;32m      7\u001b[0m \u001b[38;5;28;01mimport\u001b[39;00m \u001b[38;5;21;01mmatplotlib\u001b[39;00m\u001b[38;5;21;01m.\u001b[39;00m\u001b[38;5;21;01mpyplot\u001b[39;00m \u001b[38;5;28;01mas\u001b[39;00m \u001b[38;5;21;01mplt\u001b[39;00m\n\u001b[1;32m----> 8\u001b[0m \u001b[43mplt\u001b[49m\u001b[38;5;241;43m.\u001b[39;49m\u001b[43mstyle\u001b[49m\u001b[38;5;241;43m.\u001b[39;49m\u001b[43muse\u001b[49m\u001b[43m(\u001b[49m\u001b[38;5;124;43m'\u001b[39;49m\u001b[38;5;124;43mseaborn-whitegrid\u001b[39;49m\u001b[38;5;124;43m'\u001b[39;49m\u001b[43m)\u001b[49m\n\u001b[0;32m     10\u001b[0m \u001b[38;5;28;01mimport\u001b[39;00m \u001b[38;5;21;01mExercise_1\u001b[39;00m \u001b[38;5;28;01mas\u001b[39;00m \u001b[38;5;21;01mex1\u001b[39;00m\n",
      "File \u001b[1;32m~\\AppData\\Local\\Packages\\PythonSoftwareFoundation.Python.3.11_qbz5n2kfra8p0\\LocalCache\\local-packages\\Python311\\site-packages\\matplotlib\\style\\core.py:139\u001b[0m, in \u001b[0;36muse\u001b[1;34m(style)\u001b[0m\n\u001b[0;32m    137\u001b[0m         style \u001b[38;5;241m=\u001b[39m _rc_params_in_file(style)\n\u001b[0;32m    138\u001b[0m     \u001b[38;5;28;01mexcept\u001b[39;00m \u001b[38;5;167;01mOSError\u001b[39;00m \u001b[38;5;28;01mas\u001b[39;00m err:\n\u001b[1;32m--> 139\u001b[0m         \u001b[38;5;28;01mraise\u001b[39;00m \u001b[38;5;167;01mOSError\u001b[39;00m(\n\u001b[0;32m    140\u001b[0m             \u001b[38;5;124mf\u001b[39m\u001b[38;5;124m\"\u001b[39m\u001b[38;5;132;01m{\u001b[39;00mstyle\u001b[38;5;132;01m!r}\u001b[39;00m\u001b[38;5;124m is not a valid package style, path of style \u001b[39m\u001b[38;5;124m\"\u001b[39m\n\u001b[0;32m    141\u001b[0m             \u001b[38;5;124mf\u001b[39m\u001b[38;5;124m\"\u001b[39m\u001b[38;5;124mfile, URL of style file, or library style name (library \u001b[39m\u001b[38;5;124m\"\u001b[39m\n\u001b[0;32m    142\u001b[0m             \u001b[38;5;124mf\u001b[39m\u001b[38;5;124m\"\u001b[39m\u001b[38;5;124mstyles are listed in `style.available`)\u001b[39m\u001b[38;5;124m\"\u001b[39m) \u001b[38;5;28;01mfrom\u001b[39;00m \u001b[38;5;21;01merr\u001b[39;00m\n\u001b[0;32m    143\u001b[0m filtered \u001b[38;5;241m=\u001b[39m {}\n\u001b[0;32m    144\u001b[0m \u001b[38;5;28;01mfor\u001b[39;00m k \u001b[38;5;129;01min\u001b[39;00m style:  \u001b[38;5;66;03m# don't trigger RcParams.__getitem__('backend')\u001b[39;00m\n",
      "\u001b[1;31mOSError\u001b[0m: 'seaborn-whitegrid' is not a valid package style, path of style file, URL of style file, or library style name (library styles are listed in `style.available`)"
     ]
    }
   ],
   "source": [
    "# magics: ensures that any changes to the modules loaded below will be re-loaded automatically\n",
    "%load_ext autoreload\n",
    "%autoreload 2\n",
    "\n",
    "# Load package \n",
    "import numpy as np\n",
    "import matplotlib.pyplot as plt\n",
    "plt.style.use('seaborn-v0_8')\n",
    "\n",
    "import Exercise_1 as ex1"
   ]
  },
  {
   "cell_type": "markdown",
   "metadata": {},
   "source": [
    "<h1> Exercise 2: The Infinite Horizon Consumption Model"
   ]
  },
  {
   "attachments": {},
   "cell_type": "markdown",
   "metadata": {},
   "source": [
    "Consider again the simplest consumption-saving model but with an infinite time horizon:\n",
    "\n",
    "$$\\begin{align*}\n",
    "    V_1^*(W_1) &= \\max_{c_1,c_2,\\dots} \\{ \\sqrt{c_1} +\\beta \\sqrt{c_2}+\\beta^2\\sqrt{c_3}+\\cdots \\} \\\\\n",
    "    & \\text{s.t.} \\\\\n",
    "    W_{t+1} & = W_{t}-c_{t} \\\\\n",
    "    c_{t} & \\leq  W_{t} , \\,\\forall t\\\\\n",
    "    c_{t} & \\in  \\mathbb{N}_+, \\,\\forall t\n",
    "\\end{align*}$$\n",
    "for $\\beta =0.9$ and $W_1=5$.\n",
    "\n",
    "\n",
    "\n",
    "Notice, we can rewrite the first equation as a Bellman equation:\n",
    "\n",
    "$$\\begin{align}\n",
    "    V^*(W_t) &=\\sqrt{c_t} +\\beta V^*(\\underbrace{W_{t}-c_t}_{W_{t+1}}), \\forall t\n",
    "\\end{align}$$\n"
   ]
  },
  {
   "cell_type": "markdown",
   "metadata": {},
   "source": [
    "### 1. Solve the model using value function iteration (VFI): "
   ]
  },
  {
   "cell_type": "code",
   "execution_count": null,
   "metadata": {},
   "outputs": [],
   "source": [
    "# Setup\n",
    "beta = 0.90\n",
    "W = 5\n",
    "grid_W = np.arange(W+1)\n",
    "Cstar = np.zeros([W+1])\n",
    "\n",
    "# Parameters for VFI\n",
    "max_iter = 200   # maximum number of iterations\n",
    "delta = 1000 #difference between V_next and V_now\n",
    "tol = 10e-2 #convergence tol. level\n",
    "it = 0  #iteration counter \n",
    "V_now = np.zeros([W+1]) #arbitrary starting values\n",
    "\n",
    "while (max_iter>= it and tol<delta):\n",
    "    it = it+1\n",
    "    V_next = V_now.copy()\n",
    "    for w in range(W+1):\n",
    "        c = np.arange(w+1)\n",
    "        w_c = w - c\n",
    "        V_guess = np.sqrt(c)+beta*V_next[w_c]\n",
    "        V_now[w] = np.amax(V_guess)\n",
    "        Cstar[w] = np.argmax(V_guess)\n",
    "    delta = np.amax(np.abs(V_now - V_next))\n",
    "\n",
    "print(V_now)"
   ]
  },
  {
   "cell_type": "markdown",
   "metadata": {},
   "source": [
    "### 2. Fill in Exercise_2.py with a function with par as input. Par should contain $\\beta$ and $W$. Solve the model for $\\beta=0.9$ and $W=20$."
   ]
  },
  {
   "cell_type": "code",
   "execution_count": null,
   "metadata": {},
   "outputs": [],
   "source": [
    "# Setup specifications in class. Defining a class is a neat way to access the parameters.\n",
    "class par: pass\n",
    "par.beta = 0.90\n",
    "par.W = 20\n",
    "par.max_iter = 200   # maximum number of iterations\n",
    "par.tol = 10e-2 #convergence tol. level\n",
    "\n",
    "#Check that the function works\n",
    "from Exercise_2 import solve_VFI\n",
    "\n",
    "sol = solve_VFI(par)\n",
    "Cstar, Vstar, _ = sol.C, sol.V, sol.it\n",
    "Cstar"
   ]
  },
  {
   "cell_type": "markdown",
   "metadata": {},
   "source": [
    "### 3. Plot the converged value function and make sure the value function is increasing in $W$."
   ]
  },
  {
   "cell_type": "code",
   "execution_count": null,
   "metadata": {},
   "outputs": [],
   "source": [
    "fig = plt.figure(figsize=(20,5))# figsize is in inches...\n",
    "\n",
    "ax = fig.add_subplot(1,2,1)\n",
    "ax.plot(np.arange(par.W+1),Vstar)\n",
    "ax.set_xlabel(f\"$W$\")\n",
    "ax.set_ylabel(f\"$V^\\star$\")\n",
    "ax.set_title(f'Value function')\n",
    "\n",
    "plt.show()"
   ]
  },
  {
   "cell_type": "markdown",
   "metadata": {},
   "source": [
    "### 4. For $T=10$, $\\beta=0.9$  and $W=20$ compare your solution using backward induction from exercise 1 with VFI. *How do the solutions differ?* "
   ]
  },
  {
   "cell_type": "code",
   "execution_count": null,
   "metadata": {},
   "outputs": [],
   "source": [
    "#Add T to par\n",
    "par.T = 10\n",
    "\n",
    "#Solve using Backward Induction\n",
    "_,Vstar_bi = ex1.solve_backwards(beta=par.beta,W=par.W,T=par.T)\n",
    "\n",
    "fig = plt.figure(figsize=(10,5))# figsize is in inches...\n",
    "ax = fig.add_subplot(1,1,1)\n",
    "ax.plot(np.arange(par.W+1),Vstar, label = f'Value function iteration', linestyle = 'dashed', linewidth=4)\n",
    "for t in [0]+list(range(1,par.T,2)):\n",
    "    ax.plot(np.arange(par.W+1),Vstar_bi[:,t], label = f'Backward induction, $t = {t+1}$')\n",
    "ax.legend()\n",
    "ax.set_xlabel(f\"$W$\")\n",
    "ax.set_ylabel(f\"$V^\\star$\")\n",
    "plt.show()"
   ]
  },
  {
   "cell_type": "markdown",
   "metadata": {},
   "source": [
    "### 5. Vary $\\beta$ and check that the number of periods until convergence is increasing in $\\beta$. *What is the reason for this lower convergence?*"
   ]
  },
  {
   "cell_type": "code",
   "execution_count": null,
   "metadata": {},
   "outputs": [],
   "source": [
    "beta_vec = [0.3,0.5,0.75, 0.80, 0.85, 0.90,0.93, 0.96]\n",
    "it_vec = np.nan + np.zeros(len(beta_vec))\n",
    "W = 20\n",
    "\n",
    "for i,beta in enumerate(beta_vec):\n",
    "    \n",
    "    par.beta = beta\n",
    "    sol = solve_VFI(par)\n",
    "    it_vec[i] = sol.it\n"
   ]
  },
  {
   "cell_type": "code",
   "execution_count": null,
   "metadata": {},
   "outputs": [],
   "source": [
    "fig = plt.figure(figsize=(10,5))# figsize is in inches...\n",
    "\n",
    "ax = fig.add_subplot(1,1,1)\n",
    "ax.plot(beta_vec,it_vec)\n",
    "ax.set_xlabel(f\"$\\u03B2$\")\n",
    "ax.set_ylabel(\"Number of iterations\")\n",
    "plt.show()"
   ]
  },
  {
   "cell_type": "markdown",
   "metadata": {},
   "source": [
    "### 6. Simulate $C_1$, $C_2$,...,$C_{10}$ using the policy function found in 2) and W=5"
   ]
  },
  {
   "cell_type": "code",
   "execution_count": null,
   "metadata": {},
   "outputs": [],
   "source": [
    "#Solve the model using beta=0.90 and W=5\n",
    "par.beta = 0.90\n",
    "par.W = 5 #Maximum cake size\n",
    "\n",
    "sol = solve_VFI(par)\n",
    "Cstar, Vstar, _ = sol.C, sol.V, sol.it"
   ]
  },
  {
   "cell_type": "code",
   "execution_count": null,
   "metadata": {},
   "outputs": [],
   "source": [
    "# define function\n",
    "def simulate(Cstar,T,W):\n",
    "    C_vfi = np.zeros(T)\n",
    "    W_now = W\n",
    "    for t in range(T):\n",
    "        W_now = int(W_now)   # change the type to integreger 0,1,2,3 and so on\n",
    "        C_vfi[t] = Cstar[W_now]  # Use the solution \n",
    "        W_now = W_now-C_vfi[t]\n",
    "    return C_vfi\n",
    "\n",
    "# 4. Simulate\n",
    "W = 5\n",
    "T = 10\n",
    "C_sim = simulate(Cstar,T,W)  # Call function\n",
    "        \n",
    "print('Solution for C with T =',T,'and W =', W , ': C =',C_sim)"
   ]
  }
 ],
 "metadata": {
  "kernelspec": {
   "display_name": "base",
   "language": "python",
   "name": "python3"
  },
  "language_info": {
   "codemirror_mode": {
    "name": "ipython",
    "version": 3
   },
   "file_extension": ".py",
   "mimetype": "text/x-python",
   "name": "python",
   "nbconvert_exporter": "python",
   "pygments_lexer": "ipython3",
   "version": "3.11.8"
  },
  "vscode": {
   "interpreter": {
    "hash": "e426bf05754cca8d7bd83a0dce81a672af178a75fe45d0c3ca2f6c8ec8bbe319"
   }
  }
 },
 "nbformat": 4,
 "nbformat_minor": 4
}
